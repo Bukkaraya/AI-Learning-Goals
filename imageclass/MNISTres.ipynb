{
 "cells": [
  {
   "cell_type": "code",
   "execution_count": 1,
   "metadata": {},
   "outputs": [],
   "source": [
    "from __future__ import print_function\n",
    "import torch\n",
    "import torchvision\n",
    "import torchvision.transforms as transforms\n",
    "from torch.autograd import Variable\n",
    "import torch.nn as nn\n",
    "import torch.nn.functional as F\n",
    "import torch.optim as optim\n",
    "import numpy as np\n",
    "import matplotlib.pyplot as plt\n",
    "\n",
    "%matplotlib inline"
   ]
  },
  {
   "cell_type": "markdown",
   "metadata": {},
   "source": [
    "## Preprocess the data"
   ]
  },
  {
   "cell_type": "code",
   "execution_count": 2,
   "metadata": {},
   "outputs": [],
   "source": [
    "# Transforms to perform on the dataset\n",
    "# We will convert the image to a Tensor\n",
    "# Then we will mean normalize the tensor\n",
    "# Normalize to a mean on 0.5 with a std dev of 0.5\n",
    "# One for each channel\n",
    "transform = transforms.Compose(\n",
    "    [transforms.ToTensor(),\n",
    "    transforms.Normalize((0.5,), (0.5,))])\n",
    "\n",
    "# We first grab the data and create a dataset and apply the above transforms to it\n",
    "# Then we create a dataloader with a batch size of 32 and also shuffle the data\n",
    "trainset = torchvision.datasets.MNIST(root='./data', train=True, download=True, transform=transform)\n",
    "trainloader = torch.utils.data.DataLoader(trainset, batch_size=32, shuffle=True, num_workers=2)\n",
    "\n",
    "# We grab the test set and create a dataloader with the same mini batch size but we set shuffle to\n",
    "# false for obvious reasons\n",
    "testset = torchvision.datasets.MNIST(root='./data', train=False, download=True, transform=transform)\n",
    "testloader = torch.utils.data.DataLoader(testset, batch_size=32, shuffle=False, num_workers=2)"
   ]
  },
  {
   "cell_type": "markdown",
   "metadata": {},
   "source": [
    "### Let's look at the images"
   ]
  },
  {
   "cell_type": "code",
   "execution_count": 3,
   "metadata": {},
   "outputs": [
    {
     "name": "stdout",
     "output_type": "stream",
     "text": [
      "torch.Size([1, 28, 28])\n",
      "[ ' 7 ' ,   ' 7 ' ,   ' 0 ' ,   ' 8 ' ,   ' 6 ' ,   ' 8 ' ,   ' 3 ' ,   ' 2 ' ,   ' 8 ' ,   ' 1 ' ,   ' 9 ' ,   ' 8 ' ,   ' 9 ' ,   ' 7 ' ,   ' 7 ' ,   ' 7 ' ,   ' 9 ' ,   ' 4 ' ,   ' 6 ' ,   ' 2 ' ,   ' 5 ' ,   ' 1 ' ,   ' 7 ' ,   ' 7 ' ,   ' 0 ' ,   ' 6 ' ,   ' 1 ' ,   ' 4 ' ,   ' 1 ' ,   ' 8 ' ,   ' 9 ' ,   ' 9 ' ]\n"
     ]
    },
    {
     "data": {
      "image/png": "[encoded data removed]",
      "text/plain": [
       "<matplotlib.figure.Figure at 0x7f817a5712b0>"
      ]
     },
     "metadata": {},
     "output_type": "display_data"
    },
    {
     "name": "stderr",
     "output_type": "stream",
     "text": [
      "Process Process-2:\n",
      "Process Process-1:\n",
      "Traceback (most recent call last):\n",
      "Traceback (most recent call last):\n",
      "  File \"/usr/lib/python3.6/multiprocessing/process.py\", line 258, in _bootstrap\n",
      "    self.run()\n",
      "  File \"/usr/lib/python3.6/multiprocessing/process.py\", line 258, in _bootstrap\n",
      "    self.run()\n",
      "  File \"/usr/lib/python3.6/multiprocessing/process.py\", line 93, in run\n",
      "    self._target(*self._args, **self._kwargs)\n",
      "  File \"/usr/lib/python3.6/multiprocessing/process.py\", line 93, in run\n",
      "    self._target(*self._args, **self._kwargs)\n",
      "  File \"/usr/local/lib/python3.6/dist-packages/torch/utils/data/dataloader.py\", line 36, in _worker_loop\n",
      "    r = index_queue.get()\n",
      "  File \"/usr/lib/python3.6/multiprocessing/queues.py\", line 335, in get\n",
      "    res = self._reader.recv_bytes()\n",
      "  File \"/usr/local/lib/python3.6/dist-packages/torch/utils/data/dataloader.py\", line 36, in _worker_loop\n",
      "    r = index_queue.get()\n",
      "  File \"/usr/lib/python3.6/multiprocessing/connection.py\", line 216, in recv_bytes\n",
      "    buf = self._recv_bytes(maxlength)\n",
      "  File \"/usr/lib/python3.6/multiprocessing/queues.py\", line 334, in get\n",
      "    with self._rlock:\n",
      "  File \"/usr/lib/python3.6/multiprocessing/connection.py\", line 407, in _recv_bytes\n",
      "    buf = self._recv(4)\n",
      "  File \"/usr/lib/python3.6/multiprocessing/synchronize.py\", line 96, in __enter__\n",
      "    return self._semlock.__enter__()\n",
      "  File \"/usr/lib/python3.6/multiprocessing/connection.py\", line 379, in _recv\n",
      "    chunk = read(handle, remaining)\n",
      "KeyboardInterrupt\n",
      "KeyboardInterrupt\n"
     ]
    }
   ],
   "source": [
    "classes = ('0', '1', '2', '3', '4', '5', '6', '7', '8', '9')\n",
    "\n",
    "def imgshow(img):\n",
    "    img = img / 2 + 0.5\n",
    "    npimg = img.numpy()\n",
    "    plt.imshow(npimg.transpose())\n",
    "\n",
    "dataiter = iter(trainloader)\n",
    "images, labels = dataiter.next()\n",
    "\n",
    "print(images[0].size())\n",
    "\n",
    "imgshow(torchvision.utils.make_grid(images))\n",
    "array = [classes[labels[j]] for j in range(32)]\n",
    "\n",
    "print(' '.join(f'{array}'))"
   ]
  },
  {
   "cell_type": "markdown",
   "metadata": {},
   "source": [
    "## Let's build a Model for this problem"
   ]
  },
  {
   "cell_type": "markdown",
   "metadata": {},
   "source": [
    "- We will first train a simple model with no Convolutions\n",
    "- Next we will train a more complex model based on ResNet"
   ]
  },
  {
   "cell_type": "markdown",
   "metadata": {},
   "source": [
    "We will use a series of fully connect layers of size 1024 neurons. Dropout with a probability of 0.5 will be used to reduce overfitting.\n",
    "\n",
    "We will use ReLU activation for the hidden layers and Softmax for the final output layer"
   ]
  },
  {
   "cell_type": "code",
   "execution_count": 4,
   "metadata": {},
   "outputs": [
    {
     "name": "stdout",
     "output_type": "stream",
     "text": [
      "SimpleNet(\n",
      "  (fc1): Linear(in_features=784, out_features=1024)\n",
      "  (dropout): Dropout(p=0.5)\n",
      "  (bn): BatchNorm1d(1024, eps=1e-05, momentum=0.1, affine=True)\n",
      "  (fc2): Linear(in_features=1024, out_features=1024)\n",
      "  (fc3): Linear(in_features=1024, out_features=10)\n",
      "  (ReLU): ReLU(inplace)\n",
      "  (softmax): Softmax()\n",
      ")\n"
     ]
    }
   ],
   "source": [
    "class SimpleNet(nn.Module):\n",
    "    def __init__(self):\n",
    "        super(SimpleNet, self).__init__()\n",
    "        self.fc1 = nn.Linear(28 * 28, 1024)\n",
    "        self.dropout = nn.Dropout(p=0.5)\n",
    "        self.bn = nn.BatchNorm1d(1024)\n",
    "        self.fc2 = nn.Linear(1024, 1024)\n",
    "        self.fc3 = nn.Linear(1024, 10)\n",
    "        self.ReLU = nn.ReLU(inplace=True)\n",
    "        self.softmax = nn.Softmax(dim=1)\n",
    "        \n",
    "    def forward(self, x):\n",
    "        x = x.view(-1, 28 * 28)\n",
    "        x = self.fc1(x)\n",
    "        x = self.bn(x)\n",
    "        x = self.dropout(x)\n",
    "        x = self.fc2(x)\n",
    "        x = self.bn(x)\n",
    "        x = self.dropout(x)\n",
    "        x = self.fc3(x)\n",
    "        \n",
    "        return self.softmax(x)\n",
    "\n",
    "simple_net = SimpleNet()\n",
    "simple_net = simple_net.cuda()\n",
    "print(simple_net)"
   ]
  },
  {
   "cell_type": "markdown",
   "metadata": {},
   "source": [
    "### Let's create the loss function and optimizer\n",
    "- We will use the CrossEntropy Loss function\n",
    "- We will use SGD with Momentum"
   ]
  },
  {
   "cell_type": "code",
   "execution_count": null,
   "metadata": {},
   "outputs": [],
   "source": [
    "learning_rate = 0.01\n",
    "\n",
    "criterion = nn.CrossEntropyLoss()\n",
    "optimizer = optim.SGD(simple_net.parameters(), lr=learning_rate, momentum=0.9)\n",
    "simple_net.train()"
   ]
  },
  {
   "cell_type": "markdown",
   "metadata": {},
   "source": [
    "### Let's train the network"
   ]
  },
  {
   "cell_type": "code",
   "execution_count": 6,
   "metadata": {},
   "outputs": [],
   "source": [
    "def train(num_epochs, trainloader, net, criterion, optimizer):\n",
    "    for epoch in range(num_epochs):\n",
    "        running_loss = 0.0\n",
    "        \n",
    "        for i, data in enumerate(trainloader, 0):\n",
    "            inputs, labels = data\n",
    "            \n",
    "            inputs, labels = Variable(inputs), Variable(labels)\n",
    "            inputs, labels = inputs.cuda(), labels.cuda()\n",
    "            \n",
    "            optimizer.zero_grad()\n",
    "            \n",
    "            outputs = net(inputs)\n",
    "            loss = criterion(outputs, labels)\n",
    "            loss.backward()\n",
    "            optimizer.step()\n",
    "            \n",
    "            running_loss += loss.data[0]\n",
    "            if i % 500 == 499:\n",
    "                print(f'[{epoch + 1} {i + 1}] Loss: {running_loss/500}')\n",
    "                running_loss = 0.0\n",
    "\n",
    "    print('Finished Training')"
   ]
  },
  {
   "cell_type": "code",
   "execution_count": 19,
   "metadata": {},
   "outputs": [
    {
     "name": "stdout",
     "output_type": "stream",
     "text": [
      "[1 500] Loss: 1.5457993295192718\n",
      "[1 1000] Loss: 1.5385815272331238\n",
      "[1 1500] Loss: 1.5384490354061127\n",
      "[2 500] Loss: 1.537696879863739\n",
      "[2 1000] Loss: 1.5380622193813325\n",
      "[2 1500] Loss: 1.5378902728557586\n",
      "[3 500] Loss: 1.538299946308136\n",
      "[3 1000] Loss: 1.5366844041347503\n",
      "[3 1500] Loss: 1.5345395228862762\n",
      "[4 500] Loss: 1.5359351556301117\n",
      "[4 1000] Loss: 1.537395118713379\n",
      "[4 1500] Loss: 1.5345355017185212\n",
      "[5 500] Loss: 1.5334057495594025\n",
      "[5 1000] Loss: 1.5328377861976623\n",
      "[5 1500] Loss: 1.5340110762119292\n",
      "[6 500] Loss: 1.5342496185302734\n",
      "[6 1000] Loss: 1.5317568633556367\n",
      "[6 1500] Loss: 1.5329906957149506\n",
      "[7 500] Loss: 1.532659892320633\n",
      "[7 1000] Loss: 1.5347304439544678\n",
      "[7 1500] Loss: 1.5336033535003661\n",
      "[8 500] Loss: 1.5316065652370452\n",
      "[8 1000] Loss: 1.53680650138855\n",
      "[8 1500] Loss: 1.5331034498214722\n",
      "[9 500] Loss: 1.5349918439388275\n",
      "[9 1000] Loss: 1.5320035157203675\n",
      "[9 1500] Loss: 1.531144495487213\n",
      "[10 500] Loss: 1.5312389452457429\n",
      "[10 1000] Loss: 1.5335959510803223\n",
      "[10 1500] Loss: 1.5314140601158142\n",
      "[11 500] Loss: 1.5339032294750214\n",
      "[11 1000] Loss: 1.5312848422527314\n",
      "[11 1500] Loss: 1.5297189209461213\n",
      "[12 500] Loss: 1.529456566095352\n",
      "[12 1000] Loss: 1.5302503879070282\n",
      "[12 1500] Loss: 1.5351522750854492\n",
      "[13 500] Loss: 1.5320253086090088\n",
      "[13 1000] Loss: 1.5307809627056121\n",
      "[13 1500] Loss: 1.530705369234085\n",
      "[14 500] Loss: 1.5327972066402435\n",
      "[14 1000] Loss: 1.529340064048767\n",
      "[14 1500] Loss: 1.5326056575775147\n",
      "[15 500] Loss: 1.5331456501483918\n",
      "[15 1000] Loss: 1.5305706737041473\n",
      "[15 1500] Loss: 1.5287267806529998\n",
      "Finished Training\n"
     ]
    }
   ],
   "source": [
    "train(15, trainloader, simple_net, criterion, optimizer)"
   ]
  },
  {
   "cell_type": "code",
   "execution_count": 20,
   "metadata": {},
   "outputs": [
    {
     "name": "stdout",
     "output_type": "stream",
     "text": [
      "GroundTruth:  [ ' 7 ' ,   ' 2 ' ,   ' 1 ' ,   ' 0 ' ,   ' 4 ' ,   ' 1 ' ,   ' 4 ' ,   ' 9 ' ,   ' 5 ' ,   ' 9 ' ,   ' 0 ' ,   ' 6 ' ,   ' 9 ' ,   ' 0 ' ,   ' 1 ' ,   ' 5 ' ,   ' 9 ' ,   ' 7 ' ,   ' 3 ' ,   ' 4 ' ,   ' 9 ' ,   ' 6 ' ,   ' 6 ' ,   ' 5 ' ,   ' 4 ' ,   ' 0 ' ,   ' 7 ' ,   ' 4 ' ,   ' 0 ' ,   ' 1 ' ,   ' 3 ' ,   ' 1 ' ]\n"
     ]
    },
    {
     "data": {
      "image/png": "[encoded data removed]",
      "text/plain": [
       "<matplotlib.figure.Figure at 0x7f81784b3550>"
      ]
     },
     "metadata": {},
     "output_type": "display_data"
    }
   ],
   "source": [
    "simple_net.eval()\n",
    "dataiter = iter(testloader)\n",
    "images, labels = dataiter.next()\n",
    "\n",
    "#print images\n",
    "imgshow(torchvision.utils.make_grid(images))\n",
    "print('GroundTruth: ', ' '.join('{0}'.format([classes[labels[j]] for j in range(32)])))"
   ]
  },
  {
   "cell_type": "code",
   "execution_count": 21,
   "metadata": {},
   "outputs": [
    {
     "name": "stdout",
     "output_type": "stream",
     "text": [
      "Predicted:  [ ' 7 ' ,   ' 2 ' ,   ' 1 ' ,   ' 0 ' ,   ' 4 ' ,   ' 1 ' ,   ' 4 ' ,   ' 9 ' ,   ' 6 ' ,   ' 9 ' ,   ' 0 ' ,   ' 6 ' ,   ' 9 ' ,   ' 0 ' ,   ' 1 ' ,   ' 5 ' ,   ' 9 ' ,   ' 7 ' ,   ' 3 ' ,   ' 4 ' ,   ' 9 ' ,   ' 6 ' ,   ' 6 ' ,   ' 5 ' ,   ' 4 ' ,   ' 0 ' ,   ' 7 ' ,   ' 4 ' ,   ' 0 ' ,   ' 1 ' ,   ' 3 ' ,   ' 1 ' ]\n"
     ]
    }
   ],
   "source": [
    "outputs = simple_net(Variable(images).cuda())\n",
    "\n",
    "_, predicted = torch.max(outputs.data, 1)\n",
    "\n",
    "print('Predicted: ', ' '.join('{}'.format([classes[predicted[j]] for j in range(32)])))"
   ]
  },
  {
   "cell_type": "code",
   "execution_count": 24,
   "metadata": {},
   "outputs": [
    {
     "name": "stdout",
     "output_type": "stream",
     "text": [
      "Accuracy of the network on the 10000 test images: 92.73 %%\n"
     ]
    }
   ],
   "source": [
    "correct = 0\n",
    "total = 0\n",
    "\n",
    "for data in testloader:\n",
    "    images, labels = data\n",
    "    images, labels = images.cuda(), labels.cuda()\n",
    "    outputs = simple_net(Variable(images))\n",
    "    _, predicted = torch.max(outputs.data, 1)\n",
    "    total += labels.size(0)\n",
    "    correct += (predicted == labels).sum()\n",
    "\n",
    "print('Accuracy of the network on the 10000 test images: {} %%'.format(100 * correct / total))"
   ]
  },
  {
   "cell_type": "markdown",
   "metadata": {},
   "source": [
    "## A better model"
   ]
  },
  {
   "cell_type": "code",
   "execution_count": null,
   "metadata": {},
   "outputs": [],
   "source": [
    "class MNISTNet(nn.module):\n",
    "    def __init__(self):\n",
    "        super(MNISTNet, self).__init__()\n",
    "        self.conv1 = nn.Conv2d(1, )"
   ]
  }
 ],
 "metadata": {
  "kernelspec": {
   "display_name": "Python 3",
   "language": "python",
   "name": "python3"
  },
  "language_info": {
   "codemirror_mode": {
    "name": "ipython",
    "version": 3
   },
   "file_extension": ".py",
   "mimetype": "text/x-python",
   "name": "python",
   "nbconvert_exporter": "python",
   "pygments_lexer": "ipython3",
   "version": "3.6.3"
  }
 },
 "nbformat": 4,
 "nbformat_minor": 2
}
